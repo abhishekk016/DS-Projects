{
 "cells": [
  {
   "cell_type": "code",
   "execution_count": null,
   "id": "00a9cedd",
   "metadata": {},
   "outputs": [],
   "source": [
    "import pandas as pd\n",
    "import matplotlib.pyplot as plt\n",
    "import seaborn as sns\n",
    "from sklearn.model_selection import train_test_split\n",
    "from sklearn.linear_model import LinearRegression\n",
    "from sklearn.metrics import mean_squared_error, r2_score\n",
    "\n",
    "df = pd.read_csv(\"advertising.csv\")\n",
    "df.head()\n",
    "\n",
    "df.info()\n",
    "df.describe()\n",
    "df.isnull().sum()\n",
    "\n",
    "sns.pairplot(df)\n",
    "plt.show()\n",
    "\n",
    "sns.heatmap(df.corr(), annot=True, cmap=\"coolwarm\")\n",
    "plt.title(\"Feature Correlation\")\n",
    "plt.show()\n",
    "\n",
    "X = df[['TV', 'Radio', 'Newspaper']]  # features\n",
    "y = df['Sales']  # target\n",
    "\n",
    "X_train, X_test, y_train, y_test = train_test_split(X, y, test_size=0.2, random_state=42)\n",
    "\n",
    "model = LinearRegression()\n",
    "model.fit(X_train, y_train)\n",
    "\n",
    "y_pred = model.predict(X_test)\n",
    "\n",
    "print(\"R² Score:\", r2_score(y_test, y_pred))\n",
    "print(\"MSE:\", mean_squared_error(y_test, y_pred))\n",
    "\n",
    "plt.scatter(y_test, y_pred, color=\"blue\")\n",
    "plt.xlabel(\"Actual Sales\")\n",
    "plt.ylabel(\"Predicted Sales\")\n",
    "plt.title(\"Actual vs Predicted Sales\")\n",
    "plt.grid(True)\n",
    "plt.show()\n"
   ]
  }
 ],
 "metadata": {
  "language_info": {
   "name": "python"
  }
 },
 "nbformat": 4,
 "nbformat_minor": 5
}
